{
 "cells": [
  {
   "cell_type": "code",
   "execution_count": 1,
   "id": "cooked-panama",
   "metadata": {},
   "outputs": [],
   "source": [
    "import requests        #导入requests包\n",
    "from bs4 import    BeautifulSoup\n",
    "\n",
    "import pandas as pd\n",
    "\n",
    "from cv2 import *\n",
    "import urllib\n",
    "import numpy as np\n",
    "import requests as req\n",
    "from PIL import Image\n",
    "from io import BytesIO\n",
    "from skimage import io"
   ]
  },
  {
   "cell_type": "code",
   "execution_count": 2,
   "id": "bearing-conditions",
   "metadata": {},
   "outputs": [],
   "source": [
    "df = pd.DataFrame(columns=['name', 'lat', 'lon', 'description', 'image_url'])"
   ]
  },
  {
   "cell_type": "code",
   "execution_count": 3,
   "id": "going-cassette",
   "metadata": {
    "scrolled": true
   },
   "outputs": [
    {
     "name": "stdout",
     "output_type": "stream",
     "text": [
      "Brooklyn Museum\n",
      "Located on Long Island in New York City's borough of Brooklyn, it is the second-largest art museum in New York City, and one of the largest in the United States.\n",
      "https://upload.wikimedia.org/wikipedia/commons/d/df/Brooklyn_Museum_June_2008_sunset_jeh.JPG\n",
      "Brooklyn Tabernacle\n",
      "The Brooklyn Tabernacle is one of New York City's largest churches and Grammy Award winning Choir.\n",
      "https://upload.wikimedia.org/wikipedia/en/0/01/Brooklyn-Tab.jpg\n",
      "Brooklyn Bridge\n",
      "Built in 1874, the Brooklyn Bridge is the oldest existing suspension bridge in the U.S.\n",
      "https://upload.wikimedia.org/wikipedia/commons/e/e2/Pont_de_Brooklyn_de_nuit_-_Octobre_2008_edit.jpg\n",
      "Coney Island\n",
      "Between about 1880 and World War II, Coney Island was the largest amusement area in the United States; today, it contains two amusement parks and several other attractions clustered around the Riegelmann Boardwalk.\n",
      "https://upload.wikimedia.org/wikipedia/commons/5/58/Nathan%27s_Coney_Island_July_2007.jpg\n",
      "Prospect Park\n",
      "The country's longest open park meadow, with ancient trees in Brooklyn's only extant forest.\n",
      "https://upload.wikimedia.org/wikipedia/commons/2/23/Long-Meadow-Panorama-M01.jpg\n",
      "Citi Field\n",
      "The home stadium of the New York Mets baseball team.\n",
      "https://upload.wikimedia.org/wikipedia/commons/1/11/Citi_FIeld_Night.jpg\n",
      "Rockaway Peninsula\n",
      "Also called The Rockaways, a popular summer resort area since the 1830s, containing the Rockaway Beach and Boardwalk and Jacob Riis Park on its southern shore.\n",
      "https://upload.wikimedia.org/wikipedia/commons/a/ad/Rockaway_Boardwalk_jeh.JPG\n",
      "Unisphere\n",
      "The symbol of Queens, the Unisphere is a giant globe in Flushing Meadows Park.\n",
      "https://upload.wikimedia.org/wikipedia/commons/7/72/Unisfera_Flushing.jpg\n",
      "Jones Beach\n",
      "Jones Beach Tower, now a familiar Jones Beach State Park landmark, was modeled on the campanile of St Mark's Basilica in Venice.\n",
      "https://upload.wikimedia.org/wikipedia/commons/b/bc/Jones_Beach_WantaghPkwy_Approach.jpg\n",
      "Nassau Veterans Memorial Coliseum\n",
      "Former home arena of the New York Islanders hockey team.\n",
      "https://upload.wikimedia.org/wikipedia/commons/c/cd/NVMC_3.jpg\n",
      "Old Westbury Gardens\n",
      "Charles II - Westbury House, style mansion designed by George A. Crawley, contains 23 rooms. The grounds cover 160 acres.\n",
      "https://upload.wikimedia.org/wikipedia/commons/f/fe/Old_Westbury_Gardens_10.JPG\n",
      "Planting Fields Arboretum State Historic Park\n",
      "An arboretum and state park covering over 400 acres (160 ha) located in the Village of Upper Brookville in the town of Oyster Bay, New York.\n",
      "https://upload.wikimedia.org/wikipedia/commons/1/19/Plantfield5597.JPG\n",
      "Sagamore Hill\n",
      "Sagamore Hill was the home of the 26th President of the United States, Theodore Roosevelt, from 1886 until his death in 1919.\n",
      "https://upload.wikimedia.org/wikipedia/commons/9/98/SagamoreHill.JPG\n",
      "Welwyn Preserve\n",
      "Welwyn Preserve was the estate of Harold I. Pratt. It is now a 204 acre nature reserve, and the mansion houses a Holocaust museum\n",
      "https://upload.wikimedia.org/wikipedia/commons/7/71/Welwyn_mansion_in_Welwyn_Preserve.JPG\n",
      "American Airpower Museum\n",
      "The American Airpower Museum, the former site of the Republic factory in Farmingdale, New York, maintains a collection of Republic artifacts, and an array of aircraft spanning the many years of the aircraft factory's history.\n"
     ]
    },
    {
     "ename": "IndexError",
     "evalue": "list index out of range",
     "output_type": "error",
     "traceback": [
      "\u001b[1;31m---------------------------------------------------------------------------\u001b[0m",
      "\u001b[1;31mIndexError\u001b[0m                                Traceback (most recent call last)",
      "\u001b[1;32m<ipython-input-3-6974f5d748cb>\u001b[0m in \u001b[0;36m<module>\u001b[1;34m\u001b[0m\n\u001b[0;32m     15\u001b[0m \u001b[1;33m\u001b[0m\u001b[0m\n\u001b[0;32m     16\u001b[0m     \u001b[0mdata\u001b[0m \u001b[1;33m=\u001b[0m \u001b[0msoup\u001b[0m\u001b[1;33m.\u001b[0m\u001b[0mselect\u001b[0m\u001b[1;33m(\u001b[0m\u001b[1;34m'#mw-content-text > div.mw-parser-output > blockquote > center > table > tbody > tr:nth-child('\u001b[0m \u001b[1;33m+\u001b[0m \u001b[0mstr\u001b[0m\u001b[1;33m(\u001b[0m\u001b[0mlocation\u001b[0m\u001b[1;33m)\u001b[0m \u001b[1;33m+\u001b[0m \u001b[1;34m') > td:nth-child(3) > a > img'\u001b[0m\u001b[1;33m)\u001b[0m\u001b[1;33m\u001b[0m\u001b[1;33m\u001b[0m\u001b[0m\n\u001b[1;32m---> 17\u001b[1;33m     \u001b[0mitem\u001b[0m \u001b[1;33m=\u001b[0m \u001b[0mdata\u001b[0m\u001b[1;33m[\u001b[0m\u001b[1;36m0\u001b[0m\u001b[1;33m]\u001b[0m\u001b[1;33m\u001b[0m\u001b[1;33m\u001b[0m\u001b[0m\n\u001b[0m\u001b[0;32m     18\u001b[0m     \u001b[0mimage\u001b[0m \u001b[1;33m=\u001b[0m \u001b[0mitem\u001b[0m\u001b[1;33m.\u001b[0m\u001b[0mget\u001b[0m\u001b[1;33m(\u001b[0m\u001b[1;34m'alt'\u001b[0m\u001b[1;33m)\u001b[0m\u001b[1;33m\u001b[0m\u001b[1;33m\u001b[0m\u001b[0m\n\u001b[0;32m     19\u001b[0m     \u001b[0murl\u001b[0m \u001b[1;33m=\u001b[0m \u001b[1;34m'https://en.wikipedia.org/wiki/File:'\u001b[0m \u001b[1;33m+\u001b[0m \u001b[0mimage\u001b[0m\u001b[1;33m\u001b[0m\u001b[1;33m\u001b[0m\u001b[0m\n",
      "\u001b[1;31mIndexError\u001b[0m: list index out of range"
     ]
    }
   ],
   "source": [
    "url = 'https://en.wikipedia.org/wiki/List_of_tourist_attractions_on_Long_Island'\n",
    "strhtml = requests.get(url)\n",
    "soup = BeautifulSoup(strhtml.text,'lxml')\n",
    "    \n",
    "for location in range(2,24):\n",
    "    data = soup.select('#mw-content-text > div.mw-parser-output > blockquote > center > table > tbody > tr:nth-child(' + str(location) + ') > td:nth-child(2) > a')\n",
    "    if not data:\n",
    "        continue\n",
    "    item = data[0]\n",
    "    name = item.get_text()\n",
    "    print(name)\n",
    "\n",
    "    data = soup.select('#mw-content-text > div.mw-parser-output > blockquote > center > table > tbody > tr:nth-child(' + str(location) + ') > td:nth-child(4)')\n",
    "    if not data:\n",
    "        continue\n",
    "    item = data[0]\n",
    "    description = item.get_text()\n",
    "    print(description)\n",
    "\n",
    "    data = soup.select('#mw-content-text > div.mw-parser-output > blockquote > center > table > tbody > tr:nth-child(' + str(location) + ') > td:nth-child(3) > a > img')\n",
    "    if not data:\n",
    "        continue\n",
    "    item = data[0]\n",
    "    image = item.get('alt')\n",
    "    url = 'https://en.wikipedia.org/wiki/File:' + image\n",
    "    strhtml = requests.get(url)\n",
    "    image_soup = BeautifulSoup(strhtml.text,'lxml')\n",
    "    data = image_soup.select('#mw-content-text > div.fullMedia > p > a')\n",
    "    item = data[0]\n",
    "    img_src = 'https:'+item.get('href')\n",
    "    print(img_src)\n",
    "    \n",
    "    df = df.append({\n",
    "        'name': name,\n",
    "        'image_url': img_src,\n",
    "        'description': description,\n",
    "    }\n",
    "        , ignore_index=True)"
   ]
  },
  {
   "cell_type": "code",
   "execution_count": null,
   "id": "altered-sustainability",
   "metadata": {},
   "outputs": [],
   "source": [
    "df"
   ]
  },
  {
   "cell_type": "code",
   "execution_count": null,
   "id": "convenient-found",
   "metadata": {},
   "outputs": [],
   "source": []
  }
 ],
 "metadata": {
  "kernelspec": {
   "display_name": "Python 3",
   "language": "python",
   "name": "python3"
  },
  "language_info": {
   "codemirror_mode": {
    "name": "ipython",
    "version": 3
   },
   "file_extension": ".py",
   "mimetype": "text/x-python",
   "name": "python",
   "nbconvert_exporter": "python",
   "pygments_lexer": "ipython3",
   "version": "3.8.8"
  },
  "toc": {
   "base_numbering": 1,
   "nav_menu": {},
   "number_sections": true,
   "sideBar": true,
   "skip_h1_title": false,
   "title_cell": "Table of Contents",
   "title_sidebar": "Contents",
   "toc_cell": false,
   "toc_position": {},
   "toc_section_display": true,
   "toc_window_display": false
  }
 },
 "nbformat": 4,
 "nbformat_minor": 5
}
